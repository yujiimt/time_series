{
  "nbformat": 4,
  "nbformat_minor": 0,
  "metadata": {
    "colab": {
      "name": "時系列解析_1.ipynb",
      "provenance": [],
      "authorship_tag": "ABX9TyPAyYXsUYU7lrbwAxfjItaC",
      "include_colab_link": true
    },
    "kernelspec": {
      "name": "python3",
      "display_name": "Python 3"
    }
  },
  "cells": [
    {
      "cell_type": "markdown",
      "metadata": {
        "id": "view-in-github",
        "colab_type": "text"
      },
      "source": [
        "<a href=\"https://colab.research.google.com/github/yujiimt/time_series/blob/master/%E6%99%82%E7%B3%BB%E5%88%97%E8%A7%A3%E6%9E%90_1.ipynb\" target=\"_parent\"><img src=\"https://colab.research.google.com/assets/colab-badge.svg\" alt=\"Open In Colab\"/></a>"
      ]
    },
    {
      "cell_type": "markdown",
      "metadata": {
        "id": "U-0ASfYKRvd7",
        "colab_type": "text"
      },
      "source": [
        "# 時系列解析\n",
        "\n",
        "時間軸の沿って変化している現象の解析を時系列解析\n",
        "過去のデータから変動の動向、周期、不規則さなどを予測する手法\n",
        "\n",
        "時間軸の中で、事象が発生したタイミングで観測されたデータは**点過程**   \n",
        "これは時系列データではない\n",
        "\n",
        "時系列データはある時点で観測されたデータと、\n",
        "１つ前に測定されたデータとの間は直線的に変化すると**仮定**している\n",
        "その２つのデータが連続していると仮定しているのである\n",
        "\n",
        "\n",
        "点過程データはその仮定を行わない。なので、縦線で表す(棒グラフではなく、線)\n",
        "ある事象が発生した時間そのものを分析すること   \n",
        "\n",
        "\n",
        "連続的に記録されたデータ → **連続時間系列**   \n",
        "ある時間間隔で観測されたデータ → **離散時間時系列**\n",
        "\n",
        "\n",
        "　\n",
        "　\n",
        "## 定常時系列 と 非定常時系列\n",
        "\n",
        "時系列データとともに不規則な変動しているが、この変化を確率的なモデルで表現する  \n",
        "不規則な現象でも、時間的に変化しない一定の確率的モデルの実現値とみなす   \n",
        "それを**定常時系列**と呼ぶ   \n",
        "平均が時間と共に変化していたり、   \n",
        "平均まわりの変動の仕方が時間的に変化しているものを**非定常時系列**\n",
        "\n",
        "\n",
        "## ガウス型時系列と非ガウス型時系列\n",
        "\n",
        "時系列データとして観測された値の分布が正規分布に従うものを**ガウス型時系列**   \n",
        "それ以外を**非ガウス型時系列**と呼ぶ   \n",
        "\n",
        "変動のパターンに上下非対称性が見られ、そのままでは周辺分布が正規分布と見なせない時系列でも、データを変換させて、近似的にガウス型時系列にすることもできる\n"
      ]
    },
    {
      "cell_type": "code",
      "metadata": {
        "id": "slAT83p3RdOZ",
        "colab_type": "code",
        "colab": {}
      },
      "source": [
        "%matplotlib inline\n",
        "\n",
        "import matplotlib.pyplot as plt\n",
        "import numpy as np\n",
        "import pandas as pd"
      ],
      "execution_count": 0,
      "outputs": []
    },
    {
      "cell_type": "markdown",
      "metadata": {
        "id": "Ub3fdGP6Rq-U",
        "colab_type": "text"
      },
      "source": [
        "# 加法モデルと乗法モデル\n",
        "\n",
        "\n",
        "なにも加工を施していない時系列データは傾向変動、季節変動、不規則変動の３変動成分に分解することができる\n",
        "\n",
        "\n",
        "・傾向変動(トレンド) : 時間とともに単調に増加/減少する   \n",
        "                       長期的、系統的な変動であり、線形関数、非線形関数の形で表す\n",
        "\n",
        "\n",
        "・季節変動 : 季節によって変動する\n",
        "\n",
        "・不規則変動 : 上記の２つ以外の説明がつかない不規則かつ短期的に起こる小変動\n",
        "この変動を誤差的な変動と突発的に生じた特異的な変化と区別する見方もなる\n",
        "\n",
        "時系列データを３つの成分の合成であると考えたとき、    \n",
        "合成の仕方として、**合法モデル**と**乗法モデル**がある\n",
        "\n",
        "加法モデルはそれぞれの成分の和、乗法モデルは積であるとする\n",
        "\n",
        "O(t) = T(t) + S(t) + I(t)\n",
        "\n",
        "各変動の関係を比率的に解釈し、原系列データをそれぞれの成分の積で表現する乗法モデルは\n",
        "\n",
        "O(t) = T(t) * S(t) * I(t)\n",
        "\n",
        "\n",
        "加法モデルは値が加算されるだけなので、季節変動の幅は一定である    \n",
        "乗法モデルは、比率が乗じられるのでO(t）の値が大きいと変化幅は大きくなる\n",
        "\n",
        "\n",
        "不規則変動は傾向変動と季節変動では表現できなかった残差に相当する\n",
        "傾向変動および季節変動のみで原系列を復元することを考える"
      ]
    },
    {
      "cell_type": "code",
      "metadata": {
        "id": "U6GXRaf_RqIJ",
        "colab_type": "code",
        "colab": {}
      },
      "source": [
        "df_historical = pd.read_csv('/content/m_quote.csv')"
      ],
      "execution_count": 0,
      "outputs": []
    },
    {
      "cell_type": "code",
      "metadata": {
        "id": "Dn6K2HGTRqLX",
        "colab_type": "code",
        "outputId": "b3cd4c10-8a0c-401b-e477-967b27405fc4",
        "colab": {
          "base_uri": "https://localhost:8080/",
          "height": 241
        }
      },
      "source": [
        "df_historical.head()"
      ],
      "execution_count": 0,
      "outputs": [
        {
          "output_type": "execute_result",
          "data": {
            "text/html": [
              "<div>\n",
              "<style scoped>\n",
              "    .dataframe tbody tr th:only-of-type {\n",
              "        vertical-align: middle;\n",
              "    }\n",
              "\n",
              "    .dataframe tbody tr th {\n",
              "        vertical-align: top;\n",
              "    }\n",
              "\n",
              "    .dataframe thead th {\n",
              "        text-align: right;\n",
              "    }\n",
              "</style>\n",
              "<table border=\"1\" class=\"dataframe\">\n",
              "  <thead>\n",
              "    <tr style=\"text-align: right;\">\n",
              "      <th></th>\n",
              "      <th>Unnamed: 0</th>\n",
              "      <th>USD</th>\n",
              "      <th>GBP</th>\n",
              "      <th>EUR</th>\n",
              "      <th>CAD</th>\n",
              "      <th>CHF</th>\n",
              "      <th>SEK</th>\n",
              "      <th>DKK</th>\n",
              "      <th>NOK</th>\n",
              "      <th>AUD</th>\n",
              "      <th>NZD</th>\n",
              "      <th>ZAR</th>\n",
              "      <th>BHD</th>\n",
              "      <th>IDR(100)</th>\n",
              "      <th>CNY</th>\n",
              "      <th>HKD</th>\n",
              "      <th>INR</th>\n",
              "      <th>MYR</th>\n",
              "      <th>PHP</th>\n",
              "      <th>SGD</th>\n",
              "      <th>KRW(100)</th>\n",
              "      <th>THB</th>\n",
              "      <th>KWD</th>\n",
              "      <th>SAR</th>\n",
              "      <th>AED</th>\n",
              "      <th>MXN</th>\n",
              "      <th>PGK</th>\n",
              "      <th>HUF</th>\n",
              "      <th>CZK</th>\n",
              "      <th>PLN</th>\n",
              "      <th>RUB</th>\n",
              "      <th>TRY</th>\n",
              "      <th>IDR(100).1</th>\n",
              "      <th>CNY.1</th>\n",
              "      <th>MYR.1</th>\n",
              "      <th>KRW(100).1</th>\n",
              "      <th>TWD</th>\n",
              "    </tr>\n",
              "  </thead>\n",
              "  <tbody>\n",
              "    <tr>\n",
              "      <th>0</th>\n",
              "      <td>2002/4/30</td>\n",
              "      <td>131.15</td>\n",
              "      <td>189.01</td>\n",
              "      <td>115.97</td>\n",
              "      <td>82.83</td>\n",
              "      <td>79.13</td>\n",
              "      <td>12.73</td>\n",
              "      <td>15.61</td>\n",
              "      <td>15.20</td>\n",
              "      <td>70.24</td>\n",
              "      <td>58.08</td>\n",
              "      <td>11.83</td>\n",
              "      <td>348.32</td>\n",
              "      <td>*****</td>\n",
              "      <td>*****</td>\n",
              "      <td>16.82</td>\n",
              "      <td>2.69</td>\n",
              "      <td>*****</td>\n",
              "      <td>2.58</td>\n",
              "      <td>71.64</td>\n",
              "      <td>9.99</td>\n",
              "      <td>3.02</td>\n",
              "      <td>429.50</td>\n",
              "      <td>34.98</td>\n",
              "      <td>35.71</td>\n",
              "      <td>14.36</td>\n",
              "      <td>*****</td>\n",
              "      <td>*****</td>\n",
              "      <td>*****</td>\n",
              "      <td>*****</td>\n",
              "      <td>NaN</td>\n",
              "      <td>NaN</td>\n",
              "      <td>1.39</td>\n",
              "      <td>15.84</td>\n",
              "      <td>*****</td>\n",
              "      <td>9.99</td>\n",
              "      <td>3.77</td>\n",
              "    </tr>\n",
              "    <tr>\n",
              "      <th>1</th>\n",
              "      <td>2002/5/31</td>\n",
              "      <td>126.44</td>\n",
              "      <td>184.56</td>\n",
              "      <td>115.88</td>\n",
              "      <td>81.58</td>\n",
              "      <td>79.60</td>\n",
              "      <td>12.57</td>\n",
              "      <td>15.59</td>\n",
              "      <td>15.43</td>\n",
              "      <td>69.58</td>\n",
              "      <td>58.38</td>\n",
              "      <td>12.51</td>\n",
              "      <td>335.97</td>\n",
              "      <td>*****</td>\n",
              "      <td>*****</td>\n",
              "      <td>16.21</td>\n",
              "      <td>2.60</td>\n",
              "      <td>*****</td>\n",
              "      <td>2.54</td>\n",
              "      <td>70.23</td>\n",
              "      <td>10.1</td>\n",
              "      <td>2.96</td>\n",
              "      <td>417.48</td>\n",
              "      <td>33.73</td>\n",
              "      <td>34.43</td>\n",
              "      <td>13.30</td>\n",
              "      <td>*****</td>\n",
              "      <td>*****</td>\n",
              "      <td>*****</td>\n",
              "      <td>*****</td>\n",
              "      <td>NaN</td>\n",
              "      <td>NaN</td>\n",
              "      <td>1.41</td>\n",
              "      <td>15.28</td>\n",
              "      <td>*****</td>\n",
              "      <td>10.10</td>\n",
              "      <td>3.68</td>\n",
              "    </tr>\n",
              "    <tr>\n",
              "      <th>2</th>\n",
              "      <td>2002/6/28</td>\n",
              "      <td>123.53</td>\n",
              "      <td>183.00</td>\n",
              "      <td>117.83</td>\n",
              "      <td>80.64</td>\n",
              "      <td>80.09</td>\n",
              "      <td>12.94</td>\n",
              "      <td>15.86</td>\n",
              "      <td>15.92</td>\n",
              "      <td>70.29</td>\n",
              "      <td>60.48</td>\n",
              "      <td>12.22</td>\n",
              "      <td>328.37</td>\n",
              "      <td>*****</td>\n",
              "      <td>*****</td>\n",
              "      <td>15.84</td>\n",
              "      <td>2.54</td>\n",
              "      <td>*****</td>\n",
              "      <td>2.46</td>\n",
              "      <td>69.27</td>\n",
              "      <td>10.2</td>\n",
              "      <td>2.93</td>\n",
              "      <td>410.12</td>\n",
              "      <td>32.96</td>\n",
              "      <td>33.64</td>\n",
              "      <td>12.67</td>\n",
              "      <td>*****</td>\n",
              "      <td>*****</td>\n",
              "      <td>*****</td>\n",
              "      <td>*****</td>\n",
              "      <td>NaN</td>\n",
              "      <td>NaN</td>\n",
              "      <td>1.44</td>\n",
              "      <td>14.93</td>\n",
              "      <td>*****</td>\n",
              "      <td>10.20</td>\n",
              "      <td>3.66</td>\n",
              "    </tr>\n",
              "    <tr>\n",
              "      <th>3</th>\n",
              "      <td>2002/7/31</td>\n",
              "      <td>118.05</td>\n",
              "      <td>183.64</td>\n",
              "      <td>117.23</td>\n",
              "      <td>76.52</td>\n",
              "      <td>80.16</td>\n",
              "      <td>12.67</td>\n",
              "      <td>15.79</td>\n",
              "      <td>15.83</td>\n",
              "      <td>65.42</td>\n",
              "      <td>56.82</td>\n",
              "      <td>11.73</td>\n",
              "      <td>313.77</td>\n",
              "      <td>*****</td>\n",
              "      <td>*****</td>\n",
              "      <td>15.13</td>\n",
              "      <td>2.43</td>\n",
              "      <td>*****</td>\n",
              "      <td>2.34</td>\n",
              "      <td>67.35</td>\n",
              "      <td>9.98</td>\n",
              "      <td>2.86</td>\n",
              "      <td>393.79</td>\n",
              "      <td>31.49</td>\n",
              "      <td>32.15</td>\n",
              "      <td>12.07</td>\n",
              "      <td>*****</td>\n",
              "      <td>*****</td>\n",
              "      <td>*****</td>\n",
              "      <td>*****</td>\n",
              "      <td>NaN</td>\n",
              "      <td>NaN</td>\n",
              "      <td>1.34</td>\n",
              "      <td>14.26</td>\n",
              "      <td>*****</td>\n",
              "      <td>9.98</td>\n",
              "      <td>3.56</td>\n",
              "    </tr>\n",
              "    <tr>\n",
              "      <th>4</th>\n",
              "      <td>2002/8/30</td>\n",
              "      <td>119.08</td>\n",
              "      <td>183.14</td>\n",
              "      <td>116.45</td>\n",
              "      <td>75.85</td>\n",
              "      <td>79.60</td>\n",
              "      <td>12.59</td>\n",
              "      <td>15.69</td>\n",
              "      <td>15.68</td>\n",
              "      <td>64.47</td>\n",
              "      <td>55.28</td>\n",
              "      <td>11.31</td>\n",
              "      <td>316.39</td>\n",
              "      <td>*****</td>\n",
              "      <td>*****</td>\n",
              "      <td>15.27</td>\n",
              "      <td>2.46</td>\n",
              "      <td>*****</td>\n",
              "      <td>2.31</td>\n",
              "      <td>67.82</td>\n",
              "      <td>9.97</td>\n",
              "      <td>2.83</td>\n",
              "      <td>396.92</td>\n",
              "      <td>31.77</td>\n",
              "      <td>32.43</td>\n",
              "      <td>12.12</td>\n",
              "      <td>*****</td>\n",
              "      <td>*****</td>\n",
              "      <td>*****</td>\n",
              "      <td>*****</td>\n",
              "      <td>NaN</td>\n",
              "      <td>NaN</td>\n",
              "      <td>1.35</td>\n",
              "      <td>14.39</td>\n",
              "      <td>*****</td>\n",
              "      <td>9.97</td>\n",
              "      <td>3.53</td>\n",
              "    </tr>\n",
              "  </tbody>\n",
              "</table>\n",
              "</div>"
            ],
            "text/plain": [
              "  Unnamed: 0     USD     GBP     EUR  ...  CNY.1  MYR.1  KRW(100).1   TWD\n",
              "0  2002/4/30  131.15  189.01  115.97  ...  15.84  *****        9.99  3.77\n",
              "1  2002/5/31  126.44  184.56  115.88  ...  15.28  *****       10.10  3.68\n",
              "2  2002/6/28  123.53  183.00  117.83  ...  14.93  *****       10.20  3.66\n",
              "3  2002/7/31  118.05  183.64  117.23  ...  14.26  *****        9.98  3.56\n",
              "4  2002/8/30  119.08  183.14  116.45  ...  14.39  *****        9.97  3.53\n",
              "\n",
              "[5 rows x 37 columns]"
            ]
          },
          "metadata": {
            "tags": []
          },
          "execution_count": 41
        }
      ]
    },
    {
      "cell_type": "code",
      "metadata": {
        "id": "iZSgX0tUHRQW",
        "colab_type": "code",
        "colab": {}
      },
      "source": [
        "a = df_historical.USD.rolling(24).mean()\n",
        "b = df_historical.USD.rolling(12).mean()\n",
        "c = df_historical.USD"
      ],
      "execution_count": 0,
      "outputs": []
    },
    {
      "cell_type": "code",
      "metadata": {
        "id": "vHfc2QVmRqbH",
        "colab_type": "code",
        "outputId": "85eee7d8-428e-4720-a679-6148d42c7ade",
        "colab": {
          "base_uri": "https://localhost:8080/",
          "height": 265
        }
      },
      "source": [
        "#移動平均を描画\n",
        "\n",
        "fig, ax = plt.subplots()\n",
        "\n",
        "ax.plot(a)\n",
        "ax.plot(b)\n",
        "ax.plot(c)\n",
        "plt.show()"
      ],
      "execution_count": 0,
      "outputs": [
        {
          "output_type": "display_data",
          "data": {
            "image/png": "[encoded data removed]",
            "text/plain": [
              "<Figure size 432x288 with 1 Axes>"
            ]
          },
          "metadata": {
            "tags": []
          }
        }
      ]
    },
    {
      "cell_type": "code",
      "metadata": {
        "id": "6KPoUCZmHqJc",
        "colab_type": "code",
        "outputId": "056292ab-b6e5-4a79-f466-4c4a4c753a0c",
        "colab": {
          "base_uri": "https://localhost:8080/",
          "height": 204
        }
      },
      "source": [
        "ice_cream = pd.read_csv('/content/icecream.csv')\n",
        "ice_cream.head()"
      ],
      "execution_count": 0,
      "outputs": [
        {
          "output_type": "execute_result",
          "data": {
            "text/html": [
              "<div>\n",
              "<style scoped>\n",
              "    .dataframe tbody tr th:only-of-type {\n",
              "        vertical-align: middle;\n",
              "    }\n",
              "\n",
              "    .dataframe tbody tr th {\n",
              "        vertical-align: top;\n",
              "    }\n",
              "\n",
              "    .dataframe thead th {\n",
              "        text-align: right;\n",
              "    }\n",
              "</style>\n",
              "<table border=\"1\" class=\"dataframe\">\n",
              "  <thead>\n",
              "    <tr style=\"text-align: right;\">\n",
              "      <th></th>\n",
              "      <th>year</th>\n",
              "      <th>month</th>\n",
              "      <th>expenditure_yen</th>\n",
              "    </tr>\n",
              "  </thead>\n",
              "  <tbody>\n",
              "    <tr>\n",
              "      <th>0</th>\n",
              "      <td>2003</td>\n",
              "      <td>1</td>\n",
              "      <td>331</td>\n",
              "    </tr>\n",
              "    <tr>\n",
              "      <th>1</th>\n",
              "      <td>2003</td>\n",
              "      <td>2</td>\n",
              "      <td>268</td>\n",
              "    </tr>\n",
              "    <tr>\n",
              "      <th>2</th>\n",
              "      <td>2003</td>\n",
              "      <td>3</td>\n",
              "      <td>365</td>\n",
              "    </tr>\n",
              "    <tr>\n",
              "      <th>3</th>\n",
              "      <td>2003</td>\n",
              "      <td>4</td>\n",
              "      <td>492</td>\n",
              "    </tr>\n",
              "    <tr>\n",
              "      <th>4</th>\n",
              "      <td>2003</td>\n",
              "      <td>5</td>\n",
              "      <td>632</td>\n",
              "    </tr>\n",
              "  </tbody>\n",
              "</table>\n",
              "</div>"
            ],
            "text/plain": [
              "   year  month  expenditure_yen\n",
              "0  2003      1              331\n",
              "1  2003      2              268\n",
              "2  2003      3              365\n",
              "3  2003      4              492\n",
              "4  2003      5              632"
            ]
          },
          "metadata": {
            "tags": []
          },
          "execution_count": 25
        }
      ]
    },
    {
      "cell_type": "code",
      "metadata": {
        "id": "hXJoCL5CIvZV",
        "colab_type": "code",
        "outputId": "53b177b1-0453-4c75-c2be-3ed228f2a2d1",
        "colab": {
          "base_uri": "https://localhost:8080/",
          "height": 282
        }
      },
      "source": [
        "ice_cream.expenditure_yen.plot()"
      ],
      "execution_count": 0,
      "outputs": [
        {
          "output_type": "execute_result",
          "data": {
            "text/plain": [
              "<matplotlib.axes._subplots.AxesSubplot at 0x7fe04a54c128>"
            ]
          },
          "metadata": {
            "tags": []
          },
          "execution_count": 26
        },
        {
          "output_type": "display_data",
          "data": {
            "image/png": "[encoded data removed]",
            "text/plain": [
              "<Figure size 432x288 with 1 Axes>"
            ]
          },
          "metadata": {
            "tags": []
          }
        }
      ]
    },
    {
      "cell_type": "code",
      "metadata": {
        "id": "Z8drxXUqI54d",
        "colab_type": "code",
        "outputId": "8771f1fb-033f-4a04-918b-9f0c4a2621c5",
        "colab": {
          "base_uri": "https://localhost:8080/",
          "height": 282
        }
      },
      "source": [
        "a = ice_cream.expenditure_yen.rolling(window=12).mean().shift(-6)\n",
        "a.rolling(window=2).mean().plot()"
      ],
      "execution_count": 0,
      "outputs": [
        {
          "output_type": "execute_result",
          "data": {
            "text/plain": [
              "<matplotlib.axes._subplots.AxesSubplot at 0x7fe04a2998d0>"
            ]
          },
          "metadata": {
            "tags": []
          },
          "execution_count": 38
        },
        {
          "output_type": "display_data",
          "data": {
            "image/png": "[encoded data removed]",
            "text/plain": [
              "<Figure size 432x288 with 1 Axes>"
            ]
          },
          "metadata": {
            "tags": []
          }
        }
      ]
    },
    {
      "cell_type": "markdown",
      "metadata": {
        "id": "ARE8JUBWi-rW",
        "colab_type": "text"
      },
      "source": [
        "## 季節調整\n",
        "\n",
        "季節変動を取り除くことで、前月伸び率を計算することが考えられる\n",
        "移動平均をすることで、これを季節調整とよぶ\n",
        "季節調整が施されたデータは季節調整済み系列と呼ぶ\n",
        "\n",
        "\n",
        "季節調整の周期(n)がはっきりしている場合、各周期にわたって\n",
        "各季節成分の値が一定であれば、n個の移動平均をとることで季節除去できる\n",
        "移動平均を繰り返すだけでは恣意性があること、不安定性がある\n",
        "\n",
        "算出平均による移動平均を使ってT成分を求める方法は必ずしも正確とは\n",
        "言えない。乗法モデルでは変化率の平均を求めたいのであり、本来であれば幾何平均を\n",
        "取るべきである。\n",
        "\n",
        "しかし、さほど大きな差がないため、そのまま使用される\n",
        "\n",
        "1.中心化移動平均を求める: T系列の作成   \n",
        "2.原系列を中心化移動で徐した値を求め100倍する: S*I系列の作成   \n",
        "3.手順2で求めた値から12ヶ月ごとの季節指数を求める\n",
        "当該指数を求めるには,月ごとの平均値を求めた上でその値が1200になるように調整する: S系列の作成    \n",
        "4.原系列を季節指数で割って、100を掛け、季節調整済みの値とする:T*I系列の作成\n",
        "\n",
        "\n",
        "季節調整法\n",
        "\n",
        "センサス局法X-11\n",
        "\n",
        "季節指数の意味\n",
        "\n",
        "季節指数の値は、100を1年の平均値と考えた場合の各月の\n",
        "季節効果を含んだ相対的な値となっている\n",
        "\n",
        "\n"
      ]
    },
    {
      "cell_type": "code",
      "metadata": {
        "id": "BIjVPZrDi-Yc",
        "colab_type": "code",
        "colab": {}
      },
      "source": [
        "df_orig_div_cma = ice_cream.expenditure_yen / df_cma"
      ],
      "execution_count": 0,
      "outputs": []
    },
    {
      "cell_type": "code",
      "metadata": {
        "id": "DYjQDHG9i7v3",
        "colab_type": "code",
        "colab": {}
      },
      "source": [
        "#月ごとに加算\n",
        "\n",
        "orig_div_cma = df_orig_div_cma.values\n",
        "s_index = np.zeros(12)\n",
        "counter = np.zeros(12, dtype = 'i')\n",
        "\n",
        "for idx in range(len(orig_div_cma)//12):\n",
        "  # 12か月ごとにデータを抽出\n",
        "  cut_orig_div_cma = orig_div_cma[idx*12:(idx+1)*12]\n",
        "  mask = cut_orig_div_cma != cut_orig_div_cma\n",
        "  #numpy.where を使用して非数（nan) を0にして加算する\n",
        "  counter += np.where(mask, 0, 1)\n",
        "  s_index += np.where(mask, 0, cut_orig_div_cma)\n",
        "\n",
        "#加算結果の各月平均\n",
        "s_index /= counter\n",
        "#全体を1200　に合わせ季節指数を計算\n",
        "s_index = s_index / s_index.sum() * 1200"
      ],
      "execution_count": 0,
      "outputs": []
    },
    {
      "cell_type": "code",
      "metadata": {
        "id": "g0Sr2z_Ai8GR",
        "colab_type": "code",
        "colab": {}
      },
      "source": [
        "# 季節指数を原系列の要素と対応させる\n",
        "# 原系列のスタートが1月なのでnumpy.tileで12か月分の季節指数を繰り返すだけで良い\n",
        "\n",
        "tiled_s_index = np.tile(s_index, len(orig_div_cma) // 12)\n",
        "\n",
        "#季節調整済み系列の計算\n",
        "df_adjust_seriese = ice_cream.expenditure_yen / tiled_s_index * 100"
      ],
      "execution_count": 0,
      "outputs": []
    },
    {
      "cell_type": "code",
      "metadata": {
        "id": "dUdA1Nnji8oo",
        "colab_type": "code",
        "outputId": "e7759808-0dfe-4d94-da61-c7125a05485a",
        "colab": {
          "base_uri": "https://localhost:8080/",
          "height": 68
        }
      },
      "source": [
        "s_index"
      ],
      "execution_count": 0,
      "outputs": [
        {
          "output_type": "execute_result",
          "data": {
            "text/plain": [
              "array([ 57.05374632,  48.4935788 ,  61.87100094,  82.34066594,\n",
              "       112.21945388, 129.50185932, 178.03993789, 201.78512364,\n",
              "       122.39560152,  79.21403276,  59.2923283 ,  67.79267067])"
            ]
          },
          "metadata": {
            "tags": []
          },
          "execution_count": 58
        }
      ]
    },
    {
      "cell_type": "code",
      "metadata": {
        "id": "-iJQiRS7i9IN",
        "colab_type": "code",
        "outputId": "490010ff-794a-49a7-e8bc-a20a5c4714a4",
        "colab": {
          "base_uri": "https://localhost:8080/",
          "height": 85
        }
      },
      "source": [
        "100000000 / 1200 * s_index"
      ],
      "execution_count": 0,
      "outputs": [
        {
          "output_type": "execute_result",
          "data": {
            "text/plain": [
              "array([ 4754478.86030336,  4041131.56706274,  5155916.74538307,\n",
              "        6861722.16182518,  9351621.15707162, 10791821.61036477,\n",
              "       14836661.49123359, 16815426.96965148, 10199633.4598289 ,\n",
              "        6601169.39664237,  4941027.35817998,  5649389.22245296])"
            ]
          },
          "metadata": {
            "tags": []
          },
          "execution_count": 59
        }
      ]
    },
    {
      "cell_type": "markdown",
      "metadata": {
        "id": "u-FYl1guz-dH",
        "colab_type": "text"
      },
      "source": [
        "## 移動平均乖離率\n",
        "\n",
        "\n",
        "移動平均乖離率は、\n",
        "移動平均系列と原系列データがどの程度離れているかを示す\n",
        "\n",
        "\n",
        "移動平均系列が近似的にトレンドを示していると考えられたため、\n",
        "トレンドからの乖離が大きい場合はその先のデータはトレンドの\n",
        "方向に戻ってくることができる\n",
        "\n",
        "移動平均系列との過去の変動を分析することで、\n",
        "対象としている時系列データとトレンドの乖離のパターンに関するパターンに\n",
        "関する経験則が明らかになり、原系列データの上昇/下降の変換点に関して知見が得られる"
      ]
    },
    {
      "cell_type": "code",
      "metadata": {
        "id": "X8qdstsZi9qH",
        "colab_type": "code",
        "colab": {}
      },
      "source": [
        "ma24 = df_histrical.USD.rolling(24).mean()\n",
        "diff_ma24 = (df_historical.USD - 24) / ma24 * 100"
      ],
      "execution_count": 0,
      "outputs": []
    },
    {
      "cell_type": "code",
      "metadata": {
        "id": "KYGNFNTmJwXC",
        "colab_type": "code",
        "outputId": "6e9e93ec-97ca-4c0c-be9c-baecdec592b8",
        "colab": {
          "base_uri": "https://localhost:8080/",
          "height": 284
        }
      },
      "source": [
        "diff_ma24.plot()"
      ],
      "execution_count": 0,
      "outputs": [
        {
          "output_type": "execute_result",
          "data": {
            "text/plain": [
              "<matplotlib.axes._subplots.AxesSubplot at 0x7fe04a1ea9e8>"
            ]
          },
          "metadata": {
            "tags": []
          },
          "execution_count": 61
        },
        {
          "output_type": "display_data",
          "data": {
            "image/png": "[encoded data removed]",
            "text/plain": [
              "<Figure size 432x288 with 1 Axes>"
            ]
          },
          "metadata": {
            "tags": []
          }
        }
      ]
    },
    {
      "cell_type": "code",
      "metadata": {
        "id": "f-M0xQrB5_A0",
        "colab_type": "code",
        "outputId": "f5052c7a-272e-4f31-8ba0-141780ed5235",
        "colab": {
          "base_uri": "https://localhost:8080/",
          "height": 282
        }
      },
      "source": [
        "diff_ma24.plot.hist()"
      ],
      "execution_count": 0,
      "outputs": [
        {
          "output_type": "execute_result",
          "data": {
            "text/plain": [
              "<matplotlib.axes._subplots.AxesSubplot at 0x7fe048d6be48>"
            ]
          },
          "metadata": {
            "tags": []
          },
          "execution_count": 62
        },
        {
          "output_type": "display_data",
          "data": {
            "image/png": "[encoded data removed]",
            "text/plain": [
              "<Figure size 432x288 with 1 Axes>"
            ]
          },
          "metadata": {
            "tags": []
          }
        }
      ]
    },
    {
      "cell_type": "code",
      "metadata": {
        "id": "tJpt79_S6HcI",
        "colab_type": "code",
        "colab": {}
      },
      "source": [
        ""
      ],
      "execution_count": 0,
      "outputs": []
    }
  ]
}